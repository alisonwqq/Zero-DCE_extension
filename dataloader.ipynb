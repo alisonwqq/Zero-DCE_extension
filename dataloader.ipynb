{
  "nbformat": 4,
  "nbformat_minor": 0,
  "metadata": {
    "colab": {
      "name": "dataloader.ipynb",
      "provenance": [],
      "collapsed_sections": [],
      "authorship_tag": "ABX9TyPxaBo3WO5ANJrO7BB6dr0i",
      "include_colab_link": true
    },
    "kernelspec": {
      "name": "python3",
      "display_name": "Python 3"
    },
    "language_info": {
      "name": "python"
    }
  },
  "cells": [
    {
      "cell_type": "markdown",
      "metadata": {
        "id": "view-in-github",
        "colab_type": "text"
      },
      "source": [
        "<a href=\"https://colab.research.google.com/github/alisonwqq/Zero-DCE_extension/blob/main/dataloader.ipynb\" target=\"_parent\"><img src=\"https://colab.research.google.com/assets/colab-badge.svg\" alt=\"Open In Colab\"/></a>"
      ]
    },
    {
      "cell_type": "code",
      "metadata": {
        "id": "ESE66uVvmelJ"
      },
      "source": [
        "import os\n",
        "import sys\n",
        "\n",
        "import torch\n",
        "import torch.utils.data as data\n",
        "\n",
        "import numpy as np\n",
        "from PIL import Image\n",
        "import glob\n",
        "import random\n",
        "\n",
        "\n",
        "random.seed(1143)\n",
        "\n",
        "\n",
        "def populate_train_list(lowlight_images_path):\n",
        "\n",
        "\n",
        "\n",
        "\n",
        "\timage_list_lowlight = glob.glob(lowlight_images_path + \"*.jpg\")\n",
        "\n",
        "\ttrain_list = image_list_lowlight\n",
        "\n",
        "\trandom.shuffle(train_list)\n",
        "\n",
        "\treturn train_list\n",
        "\n",
        "\t\n",
        "\n",
        "class lowlight_loader(data.Dataset):\n",
        "\n",
        "\tdef __init__(self, lowlight_images_path):\n",
        "\n",
        "\t\tself.train_list = populate_train_list(lowlight_images_path) \n",
        "\t\tself.size = 512\n",
        "\n",
        "\t\tself.data_list = self.train_list\n",
        "\t\tprint(\"Total training examples:\", len(self.train_list))\n",
        "\n",
        "\n",
        "\t\t\n",
        "\n",
        "\tdef __getitem__(self, index):\n",
        "\n",
        "\t\tdata_lowlight_path = self.data_list[index]\n",
        "\t\t\n",
        "\t\tdata_lowlight = Image.open(data_lowlight_path)\n",
        "\t\t\n",
        "\t\tdata_lowlight = data_lowlight.resize((self.size,self.size), Image.ANTIALIAS)\n",
        "\t\tdata_lowlight = (np.asarray(data_lowlight)/255.0) \n",
        "\t\tdata_lowlight = torch.from_numpy(data_lowlight).float()\n",
        "\n",
        "\t\treturn data_lowlight.permute(2,0,1)\n",
        "\n",
        "\tdef __len__(self):\n",
        "\t\treturn len(self.data_list)"
      ],
      "execution_count": null,
      "outputs": []
    }
  ]
}
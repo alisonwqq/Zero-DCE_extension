{
  "nbformat": 4,
  "nbformat_minor": 0,
  "metadata": {
    "colab": {
      "name": "model.ipynb",
      "provenance": [],
      "collapsed_sections": [],
      "authorship_tag": "ABX9TyOGi5Qv9FBlrbG4Kwx2moMb",
      "include_colab_link": true
    },
    "kernelspec": {
      "name": "python3",
      "display_name": "Python 3"
    },
    "language_info": {
      "name": "python"
    }
  },
  "cells": [
    {
      "cell_type": "markdown",
      "metadata": {
        "id": "view-in-github",
        "colab_type": "text"
      },
      "source": [
        "<a href=\"https://colab.research.google.com/github/alisonwqq/Zero-DCE_extension/blob/main/model.ipynb\" target=\"_parent\"><img src=\"https://colab.research.google.com/assets/colab-badge.svg\" alt=\"Open In Colab\"/></a>"
      ]
    },
    {
      "cell_type": "code",
      "metadata": {
        "id": "BkOF516Vm-zu"
      },
      "source": [
        "import torch\n",
        "import torch.nn as nn\n",
        "import torch.nn.functional as F\n",
        "import math\n",
        "import numpy as np\n",
        "\n",
        "\n",
        "class CSDN_Tem(nn.Module):\n",
        "    def __init__(self, in_ch, out_ch):\n",
        "        super(CSDN_Tem, self).__init__()\n",
        "        self.depth_conv = nn.Conv2d(\n",
        "            in_channels=in_ch,\n",
        "            out_channels=in_ch,\n",
        "            kernel_size=3,\n",
        "            stride=1,\n",
        "            padding=1,\n",
        "            groups=in_ch\n",
        "        )\n",
        "        self.point_conv = nn.Conv2d(\n",
        "            in_channels=in_ch,\n",
        "            out_channels=out_ch,\n",
        "            kernel_size=1,\n",
        "            stride=1,\n",
        "            padding=0,\n",
        "            groups=1\n",
        "        )\n",
        "\n",
        "    def forward(self, input):\n",
        "        out = self.depth_conv(input)\n",
        "        out = self.point_conv(out)\n",
        "        return out\n",
        "\n",
        "class enhance_net_nopool(nn.Module):\n",
        "\n",
        "\tdef __init__(self,scale_factor):\n",
        "\t\tsuper(enhance_net_nopool, self).__init__()\n",
        "\n",
        "\t\tself.relu = nn.ReLU(inplace=True)\n",
        "\t\tself.scale_factor = scale_factor\n",
        "\t\tself.upsample = nn.UpsamplingBilinear2d(scale_factor=self.scale_factor)\n",
        "\t\tnumber_f = 32\n",
        "\n",
        "#   zerodce DWC + p-shared\n",
        "\t\tself.e_conv1 = CSDN_Tem(3,number_f) \n",
        "\t\tself.e_conv2 = CSDN_Tem(number_f,number_f) \n",
        "\t\tself.e_conv3 = CSDN_Tem(number_f,number_f) \n",
        "\t\tself.e_conv4 = CSDN_Tem(number_f,number_f) \n",
        "\t\tself.e_conv5 = CSDN_Tem(number_f*2,number_f) \n",
        "\t\tself.e_conv6 = CSDN_Tem(number_f*2,number_f) \n",
        "\t\tself.e_conv7 = CSDN_Tem(number_f*2,3) \n",
        "\n",
        "\tdef enhance(self, x,x_r):\n",
        "\n",
        "\t\tx = x + x_r*(torch.pow(x,2)-x)\n",
        "\t\tx = x + x_r*(torch.pow(x,2)-x)\n",
        "\t\tx = x + x_r*(torch.pow(x,2)-x)\n",
        "\t\tenhance_image_1 = x + x_r*(torch.pow(x,2)-x)\t\t\n",
        "\t\tx = enhance_image_1 + x_r*(torch.pow(enhance_image_1,2)-enhance_image_1)\t\t\n",
        "\t\tx = x + x_r*(torch.pow(x,2)-x)\t\n",
        "\t\tx = x + x_r*(torch.pow(x,2)-x)\n",
        "\t\tenhance_image = x + x_r*(torch.pow(x,2)-x)\t\n",
        "\n",
        "\t\treturn enhance_image\n",
        "\t\t\n",
        "\tdef forward(self, x):\n",
        "\t\tif self.scale_factor==1:\n",
        "\t\t\tx_down = x\n",
        "\t\telse:\n",
        "\t\t\tx_down = F.interpolate(x,scale_factor=1/self.scale_factor, mode='bilinear')\n",
        "\n",
        "\t\tx1 = self.relu(self.e_conv1(x_down))\n",
        "\t\tx2 = self.relu(self.e_conv2(x1))\n",
        "\t\tx3 = self.relu(self.e_conv3(x2))\n",
        "\t\tx4 = self.relu(self.e_conv4(x3))\n",
        "\t\tx5 = self.relu(self.e_conv5(torch.cat([x3,x4],1)))\n",
        "\t\tx6 = self.relu(self.e_conv6(torch.cat([x2,x5],1)))\n",
        "\t\tx_r = F.tanh(self.e_conv7(torch.cat([x1,x6],1)))\n",
        "\t\tif self.scale_factor==1:\n",
        "\t\t\tx_r = x_r\n",
        "\t\telse:\n",
        "\t\t\tx_r = self.upsample(x_r)\n",
        "\t\tenhance_image = self.enhance(x,x_r)\n",
        "\t\treturn enhance_image,x_r"
      ],
      "execution_count": null,
      "outputs": []
    }
  ]
}
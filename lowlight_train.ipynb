{
  "nbformat": 4,
  "nbformat_minor": 0,
  "metadata": {
    "colab": {
      "name": "lowlight_train.ipynb",
      "provenance": [],
      "collapsed_sections": [],
      "authorship_tag": "ABX9TyPKZ+pt7dW/YdsE6nYO6BsJ",
      "include_colab_link": true
    },
    "kernelspec": {
      "name": "python3",
      "display_name": "Python 3"
    },
    "language_info": {
      "name": "python"
    },
    "accelerator": "GPU"
  },
  "cells": [
    {
      "cell_type": "markdown",
      "metadata": {
        "id": "view-in-github",
        "colab_type": "text"
      },
      "source": [
        "<a href=\"https://colab.research.google.com/github/alisonwqq/Zero-DCE_extension/blob/main/lowlight_train.ipynb\" target=\"_parent\"><img src=\"https://colab.research.google.com/assets/colab-badge.svg\" alt=\"Open In Colab\"/></a>"
      ]
    },
    {
      "cell_type": "code",
      "metadata": {
        "colab": {
          "base_uri": "https://localhost:8080/",
          "height": 335
        },
        "id": "XC94weTnp7ft",
        "outputId": "119c5222-071e-4857-ab8c-66b4878ecc3e"
      },
      "source": [
        "from google.colab import github\n",
        "\n"
      ],
      "execution_count": 7,
      "outputs": [
        {
          "output_type": "error",
          "ename": "ImportError",
          "evalue": "ignored",
          "traceback": [
            "\u001b[0;31m---------------------------------------------------------------------------\u001b[0m",
            "\u001b[0;31mImportError\u001b[0m                               Traceback (most recent call last)",
            "\u001b[0;32m<ipython-input-7-b39a8c1c1462>\u001b[0m in \u001b[0;36m<module>\u001b[0;34m()\u001b[0m\n\u001b[0;32m----> 1\u001b[0;31m \u001b[0;32mfrom\u001b[0m \u001b[0mgoogle\u001b[0m\u001b[0;34m.\u001b[0m\u001b[0mcolab\u001b[0m \u001b[0;32mimport\u001b[0m \u001b[0mgithub\u001b[0m\u001b[0;34m\u001b[0m\u001b[0;34m\u001b[0m\u001b[0m\n\u001b[0m\u001b[1;32m      2\u001b[0m \u001b[0;34m\u001b[0m\u001b[0m\n",
            "\u001b[0;31mImportError\u001b[0m: cannot import name 'github' from 'google.colab' (/usr/local/lib/python3.7/dist-packages/google/colab/__init__.py)",
            "",
            "\u001b[0;31m---------------------------------------------------------------------------\u001b[0;32m\nNOTE: If your import is failing due to a missing package, you can\nmanually install dependencies using either !pip or !apt.\n\nTo view examples of installing some common dependencies, click the\n\"Open Examples\" button below.\n\u001b[0;31m---------------------------------------------------------------------------\u001b[0m\n"
          ],
          "errorDetails": {
            "actions": [
              {
                "action": "open_url",
                "actionText": "Open Examples",
                "url": "/notebooks/snippets/importing_libraries.ipynb"
              }
            ]
          }
        }
      ]
    },
    {
      "cell_type": "code",
      "metadata": {
        "colab": {
          "base_uri": "https://localhost:8080/",
          "height": 137
        },
        "id": "GuxFMAevmmTt",
        "outputId": "14c5c152-331e-421c-b4db-c82b54096997"
      },
      "source": [
        "import torch\n",
        "import torch.nn as nn\n",
        "import torchvision\n",
        "import torch.backends.cudnn as cudnn\n",
        "import torch.optim\n",
        "import os\n",
        "import sys\n",
        "import argparse\n",
        "import time\n",
        "import dataloader\n",
        "import model\n",
        "import Myloss\n",
        "import numpy as np\n",
        "from torchvision import transforms\n",
        "\n",
        "\n",
        "def weights_init(m):\n",
        "    classname = m.__class__.__name__\n",
        "    if classname.find('Conv') != -1:\n",
        "        m.weight.data.normal_(0.0, 0.02)\n",
        "    elif classname.find('BatchNorm') != -1:\n",
        "        m.weight.data.normal_(1.0, 0.02)\n",
        "        m.bias.data.fill_(0)\n",
        "\n",
        "\n",
        "\n",
        "\n",
        "\n",
        "def train(config):\n",
        "\n",
        "\tos.environ['CUDA_VISIBLE_DEVICES']='0'\n",
        "\tscale_factor = config.scale_factor\n",
        "\tDCE_net = model.enhance_net_nopool(scale_factor).cuda()\n",
        "\n",
        "\t# DCE_net.apply(weights_init)\n",
        "\tif config.load_pretrain == True:\n",
        "\t    DCE_net.load_state_dict(torch.load(config.pretrain_dir))\n",
        "\ttrain_dataset = dataloader.lowlight_loader(config.lowlight_images_path)\t\t\n",
        "\t\n",
        "\ttrain_loader = torch.utils.data.DataLoader(train_dataset, batch_size=config.train_batch_size, shuffle=True, num_workers=config.num_workers, pin_memory=True)\n",
        "\n",
        "\n",
        "\n",
        "\tL_color = Myloss.L_color()\n",
        "\tL_spa = Myloss.L_spa()\n",
        "\tL_exp = Myloss.L_exp(16)\n",
        "\t# L_exp = Myloss.L_exp(16,0.6)\n",
        "\tL_TV = Myloss.L_TV()\n",
        "\n",
        "\n",
        "\toptimizer = torch.optim.Adam(DCE_net.parameters(), lr=config.lr, weight_decay=config.weight_decay)\n",
        "\t\n",
        "\tDCE_net.train()\n",
        "\n",
        "\tfor epoch in range(config.num_epochs):\n",
        "\t\tfor iteration, img_lowlight in enumerate(train_loader):\n",
        "\n",
        "\t\t\timg_lowlight = img_lowlight.cuda()\n",
        "\n",
        "\t\t\tE = 0.6\n",
        "\n",
        "\t\t\tenhanced_image,A  = DCE_net(img_lowlight)\n",
        "\t\t\tLoss_TV = 1600*L_TV(A)\n",
        "\t\t\t# Loss_TV = 200*L_TV(A)\t\t\t\n",
        "\t\t\tloss_spa = torch.mean(L_spa(enhanced_image, img_lowlight))\n",
        "\t\t\tloss_col = 5*torch.mean(L_color(enhanced_image))\n",
        "\n",
        "\t\t\tloss_exp = 10*torch.mean(L_exp(enhanced_image,E))\n",
        "\n",
        "\t\t\t\n",
        "\t\t\t# best_loss\n",
        "\t\t\tloss =  Loss_TV + loss_spa + loss_col + loss_exp\n",
        "\n",
        "\n",
        "\t\t\t\n",
        "\t\t\toptimizer.zero_grad()\n",
        "\t\t\tloss.backward()\n",
        "\t\t\ttorch.nn.utils.clip_grad_norm(DCE_net.parameters(),config.grad_clip_norm)\n",
        "\t\t\toptimizer.step()\n",
        "\n",
        "\t\t\tif ((iteration+1) % config.display_iter) == 0:\n",
        "\t\t\t\tprint(\"Loss at iteration\", iteration+1, \":\", loss.item())\n",
        "\t\t\tif ((iteration+1) % config.snapshot_iter) == 0:\n",
        "\t\t\t\t\n",
        "\t\t\t\ttorch.save(DCE_net.state_dict(), config.snapshots_folder + \"Epoch\" + str(epoch) + '.pth') \t\t\n",
        "\n",
        "\n",
        "\n",
        "\n",
        "if __name__ == \"__main__\":\n",
        "\n",
        "\tparser = argparse.ArgumentParser()\n",
        "\n",
        "\t# Input Parameters\n",
        "\tparser.add_argument('--lowlight_images_path', type=str, default=\"data/train_data/\")\n",
        "\tparser.add_argument('--lr', type=float, default=0.0001)\n",
        "\tparser.add_argument('--weight_decay', type=float, default=0.0001)\n",
        "\tparser.add_argument('--grad_clip_norm', type=float, default=0.1)\n",
        "\tparser.add_argument('--num_epochs', type=int, default=100)\n",
        "\tparser.add_argument('--train_batch_size', type=int, default=8)\n",
        "\tparser.add_argument('--val_batch_size', type=int, default=8)\n",
        "\tparser.add_argument('--num_workers', type=int, default=4)\n",
        "\tparser.add_argument('--display_iter', type=int, default=10)\n",
        "\tparser.add_argument('--snapshot_iter', type=int, default=10)\n",
        "\tparser.add_argument('--scale_factor', type=int, default=1)\n",
        "\tparser.add_argument('--snapshots_folder', type=str, default=\"snapshots_Zero_DCE++/\")\n",
        "\tparser.add_argument('--load_pretrain', type=bool, default= False)\n",
        "\tparser.add_argument('--pretrain_dir', type=str, default= \"snapshots_Zero_DCE++/Epoch99.pth\")\n",
        "\n",
        "\tconfig = parser.parse_args()\n",
        "\n",
        "\tif not os.path.exists(config.snapshots_folder):\n",
        "\t\tos.mkdir(config.snapshots_folder)\n",
        "\n",
        "\n",
        "\ttrain(config)"
      ],
      "execution_count": 6,
      "outputs": [
        {
          "output_type": "error",
          "ename": "SyntaxError",
          "evalue": "ignored",
          "traceback": [
            "\u001b[0;36m  File \u001b[0;32m\"<ipython-input-6-4d6c001c2c7a>\"\u001b[0;36m, line \u001b[0;32m11\u001b[0m\n\u001b[0;31m    import https://github.com/alisonwqq/Zero-DCE_extension/blob/main/Zero-DCE++/dataloader.py\u001b[0m\n\u001b[0m                ^\u001b[0m\n\u001b[0;31mSyntaxError\u001b[0m\u001b[0;31m:\u001b[0m invalid syntax\n"
          ]
        }
      ]
    }
  ]
}